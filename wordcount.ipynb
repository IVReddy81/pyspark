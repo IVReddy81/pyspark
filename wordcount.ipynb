a=spark.sparkContext.textFile("/content/12.txt")
b=a.filter(lambda x:len(x)>0)
c=b.flatMap(lambda x:x.split(' '))
d=c.map(lambda x:(x,1))
e=d.reduceByKey(lambda x,y:y+x)
f=e.map(lambda x: (x[1],x[0])).sortByKey(0)
for c in f.collect():
  print(c)

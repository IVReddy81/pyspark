{
  "nbformat": 4,
  "nbformat_minor": 0,
  "metadata": {
    "colab": {
      "name": "RDD.ipynb",
      "provenance": [],
      "collapsed_sections": [],
      "authorship_tag": "ABX9TyNzSDUQbUxIn4K0SSyVKjzl",
      "include_colab_link": true
    },
    "kernelspec": {
      "name": "python3",
      "display_name": "Python 3"
    },
    "language_info": {
      "name": "python"
    }
  },
  "cells": [
    {
      "cell_type": "markdown",
      "metadata": {
        "id": "view-in-github",
        "colab_type": "text"
      },
      "source": [
        "<a href=\"https://colab.research.google.com/github/IVReddy81/pyspark/blob/main/RDD%20Transformations.ipynb\" target=\"_parent\"><img src=\"https://colab.research.google.com/assets/colab-badge.svg\" alt=\"Open In Colab\"/></a>"
      ]
    },
    {
      "cell_type": "code",
      "source": [
        "from pyspark.sql import SparkSession\n",
        "from pyspark import SparkContext\n",
        "spark=SparkSession.builder.master(\"local\").appName(\"king\").getOrCreate()\n",
        "sc=spark.sparkContext\n",
        "#map\n",
        "a=sc.parallelize([1,2,3,4])\n",
        "rmap=a.map(lambda x:(x,1))\n",
        "rmap.collect()"
      ],
      "metadata": {
        "colab": {
          "base_uri": "https://localhost:8080/"
        },
        "id": "ggywFEQJ0f_X",
        "outputId": "37bb9b0c-64a4-4523-dc31-114919241cbc"
      },
      "execution_count": null,
      "outputs": [
        {
          "output_type": "execute_result",
          "data": {
            "text/plain": [
              "[(1, 1), (2, 1), (3, 1), (4, 1)]"
            ]
          },
          "metadata": {},
          "execution_count": 36
        }
      ]
    },
    {
      "cell_type": "code",
      "source": [
        "#flatMap\n",
        "rflatMap=a.flatMap(lambda x:(x,1))\n",
        "rflatMap.collect()"
      ],
      "metadata": {
        "colab": {
          "base_uri": "https://localhost:8080/"
        },
        "id": "TpsmpDRo00y1",
        "outputId": "43ba0136-1b54-4a55-f963-c3a3d9d95c01"
      },
      "execution_count": null,
      "outputs": [
        {
          "output_type": "execute_result",
          "data": {
            "text/plain": [
              "[1, 1, 2, 1, 3, 1, 4, 1]"
            ]
          },
          "metadata": {},
          "execution_count": 37
        }
      ]
    },
    {
      "cell_type": "code",
      "source": [
        "#filter\n",
        "b=a.filter(lambda x: x%2==0).collect()\n",
        "print(b)"
      ],
      "metadata": {
        "colab": {
          "base_uri": "https://localhost:8080/"
        },
        "id": "u9utIz6I1IXD",
        "outputId": "0810f607-47ba-4bf5-ffb5-d390e2f21d5e"
      },
      "execution_count": null,
      "outputs": [
        {
          "output_type": "stream",
          "name": "stdout",
          "text": [
            "[2, 4]\n"
          ]
        }
      ]
    },
    {
      "cell_type": "code",
      "source": [
        "#sample -> takes particular fraction of output from input\n",
        "#sample rdd.sample([with Replacement]True/False,Percentage of data(0.1 to 1.0),seed(an integer))\n",
        "#true= duplicate values printed\n",
        "#False= no duplicates\n",
        "#give same seed two times to get same output\n",
        "a=sc.parallelize(range(100))\n",
        "a.sample(False,0.1,100).collect()"
      ],
      "metadata": {
        "colab": {
          "base_uri": "https://localhost:8080/"
        },
        "id": "NkTRb0gg1a80",
        "outputId": "d43d5396-6038-4f01-d9c5-7a2d13cf510e"
      },
      "execution_count": null,
      "outputs": [
        {
          "output_type": "execute_result",
          "data": {
            "text/plain": [
              "[27, 35, 47, 59, 62, 80, 88, 90, 96, 98]"
            ]
          },
          "metadata": {},
          "execution_count": 64
        }
      ]
    },
    {
      "cell_type": "code",
      "source": [
        "#union -> append one RDD to another RDD ex: b append to a\n",
        "b=sc.parallelize([1,2,5,7,4,0]) #a=[1, 2, 3, 4] b=[1, 2, 5, 7, 4, 0]\n",
        "a.union(b).collect()  #a union b"
      ],
      "metadata": {
        "colab": {
          "base_uri": "https://localhost:8080/"
        },
        "id": "_cfYbI4S2ccN",
        "outputId": "d8c13ef1-badd-4c0c-83c4-d45df217445a"
      },
      "execution_count": null,
      "outputs": [
        {
          "output_type": "execute_result",
          "data": {
            "text/plain": [
              "[1, 2, 3, 4, 1, 2, 5, 7, 4, 0]"
            ]
          },
          "metadata": {},
          "execution_count": 53
        }
      ]
    },
    {
      "cell_type": "code",
      "source": [
        "#union -> append one RDD to another RDD ex: a append to b\n",
        "b.union(a).collect() #b union a // a=[1, 2, 3, 4] b=[1, 2, 5, 7, 4, 0]"
      ],
      "metadata": {
        "colab": {
          "base_uri": "https://localhost:8080/"
        },
        "id": "VU_--hgr3qP3",
        "outputId": "036b5326-f2ef-461e-a1a4-bead031735fa"
      },
      "execution_count": null,
      "outputs": [
        {
          "output_type": "execute_result",
          "data": {
            "text/plain": [
              "[1, 2, 5, 7, 4, 0, 1, 2, 3, 4]"
            ]
          },
          "metadata": {},
          "execution_count": 54
        }
      ]
    },
    {
      "cell_type": "code",
      "source": [
        "##Intersection -> takes common values from both RDD's\n",
        "a.intersection(b).collect()  #a=[1, 2, 3, 4] b=[1, 2, 5, 7, 4, 0]"
      ],
      "metadata": {
        "colab": {
          "base_uri": "https://localhost:8080/"
        },
        "id": "xb0w8fUu4DSK",
        "outputId": "14f2c97c-c0db-4806-d210-59b9b2425aa0"
      },
      "execution_count": null,
      "outputs": [
        {
          "output_type": "execute_result",
          "data": {
            "text/plain": [
              "[2, 4, 1]"
            ]
          },
          "metadata": {},
          "execution_count": 56
        }
      ]
    },
    {
      "cell_type": "code",
      "source": [
        "#Intersection -> takes common values from both RDD's\n",
        "b.intersection(a).collect()  #a=[1, 2, 3, 4] b=[1, 2, 5, 7, 4, 0]"
      ],
      "metadata": {
        "colab": {
          "base_uri": "https://localhost:8080/"
        },
        "id": "pzyL1QSl4gAi",
        "outputId": "943fac2b-4fa3-47b7-cc38-bfe9885fca03"
      },
      "execution_count": null,
      "outputs": [
        {
          "output_type": "execute_result",
          "data": {
            "text/plain": [
              "[2, 4, 1]"
            ]
          },
          "metadata": {},
          "execution_count": 58
        }
      ]
    },
    {
      "cell_type": "code",
      "source": [
        "#distinct -> drops all duplicates in list/rdd\n",
        "c=sc.parallelize([1,2,1,3,4,2,4,5,7,2,1])\n",
        "c.distinct().collect()"
      ],
      "metadata": {
        "colab": {
          "base_uri": "https://localhost:8080/"
        },
        "id": "4PdokQkI4k0v",
        "outputId": "08e32a2e-cf24-4983-f664-01e254184659"
      },
      "execution_count": null,
      "outputs": [
        {
          "output_type": "execute_result",
          "data": {
            "text/plain": [
              "[1, 2, 3, 4, 5, 7]"
            ]
          },
          "metadata": {},
          "execution_count": 59
        }
      ]
    },
    {
      "cell_type": "code",
      "source": [
        "#sortBy asc\n",
        "a=sc.parallelize([1,2,1,3,4,2,4,5,7,2,1])\n",
        "a.sortBy(lambda x: x,True).collect()  #True= ascending, #False= descending"
      ],
      "metadata": {
        "colab": {
          "base_uri": "https://localhost:8080/"
        },
        "id": "HcMS3lGu52GR",
        "outputId": "00aeb398-10b1-4b03-bc39-5374a1a76036"
      },
      "execution_count": null,
      "outputs": [
        {
          "output_type": "execute_result",
          "data": {
            "text/plain": [
              "[1, 1, 1, 2, 2, 2, 3, 4, 4, 5, 7]"
            ]
          },
          "metadata": {},
          "execution_count": 73
        }
      ]
    },
    {
      "cell_type": "code",
      "source": [
        "#sortBy  desc\n",
        "b=sc.parallelize([1,2,1,3,4,2,4,5,7,2,1])\n",
        "b.sortBy(lambda x: x,False).collect()  "
      ],
      "metadata": {
        "colab": {
          "base_uri": "https://localhost:8080/"
        },
        "id": "vRW5CCUv6d9U",
        "outputId": "a5882970-f192-4c9a-a2eb-201a5a433cad"
      },
      "execution_count": null,
      "outputs": [
        {
          "output_type": "execute_result",
          "data": {
            "text/plain": [
              "[7, 5, 4, 4, 3, 2, 2, 2, 1, 1, 1]"
            ]
          },
          "metadata": {},
          "execution_count": 74
        }
      ]
    },
    {
      "cell_type": "code",
      "source": [
        "#mapPartitions --> sum all the elements and provides it as\n",
        "a=sc.parallelize([1,2,3,4,5,2,1,3,2,9],3)  #it will sum all the elements in list to 3 elements\n",
        "def f(iterator):       #1+2+3=6, 4+5+2=11, 1+3+2+9=15 \n",
        "  yield sum(iterator)\n",
        "a.mapPartitions(f).collect()"
      ],
      "metadata": {
        "colab": {
          "base_uri": "https://localhost:8080/"
        },
        "id": "pM2PCtQNCM1M",
        "outputId": "cb2ea4fd-dba7-43be-dda0-b85a21b92083"
      },
      "execution_count": null,
      "outputs": [
        {
          "output_type": "execute_result",
          "data": {
            "text/plain": [
              "[6, 11, 15]"
            ]
          },
          "metadata": {},
          "execution_count": 86
        }
      ]
    },
    {
      "cell_type": "code",
      "source": [
        "#mapPartitionsWithIndex\n",
        "a=sc.parallelize([1,2,3,4,5,2,1,3,2,9],6)  \n",
        "def f(splitindex,iterator):        \n",
        "  yield splitindex\n",
        "a.mapPartitionsWithIndex(f).sum()"
      ],
      "metadata": {
        "colab": {
          "base_uri": "https://localhost:8080/"
        },
        "id": "ODq3ltCsErru",
        "outputId": "a4272b25-01eb-474e-a634-b001a102fb69"
      },
      "execution_count": null,
      "outputs": [
        {
          "output_type": "execute_result",
          "data": {
            "text/plain": [
              "15"
            ]
          },
          "metadata": {},
          "execution_count": 107
        }
      ]
    },
    {
      "cell_type": "code",
      "source": [
        "#groupBy\n",
        "a=sc.parallelize([1,2,3,4,5,2,1,3,2,9])\n",
        "y=a.groupBy(lambda x:x%2).collect()\n",
        "print(sorted([(x,sorted(y)) for x,y in y])) "
      ],
      "metadata": {
        "colab": {
          "base_uri": "https://localhost:8080/"
        },
        "id": "fx67K7YHOgp5",
        "outputId": "837da30e-0c60-46ef-bf64-51cb6d064420"
      },
      "execution_count": null,
      "outputs": [
        {
          "output_type": "stream",
          "name": "stdout",
          "text": [
            "[(0, [2, 2, 2, 4]), (1, [1, 1, 3, 3, 5, 9])]\n"
          ]
        }
      ]
    },
    {
      "cell_type": "code",
      "source": [
        "#zip -> combines (a[index],b[index])\n",
        "a=sc.parallelize([1,2,3,4,5])\n",
        "b=sc.parallelize([3,2,4,5,6])\n",
        "a.zip(b).collect()"
      ],
      "metadata": {
        "colab": {
          "base_uri": "https://localhost:8080/"
        },
        "id": "dYUJT24rR8oJ",
        "outputId": "0df1225b-c00e-4473-8a73-8bb8258dd6f2"
      },
      "execution_count": null,
      "outputs": [
        {
          "output_type": "execute_result",
          "data": {
            "text/plain": [
              "[(1, 3), (2, 2), (3, 4), (4, 5), (5, 6)]"
            ]
          },
          "metadata": {},
          "execution_count": 111
        }
      ]
    },
    {
      "cell_type": "code",
      "source": [
        "#zipWithIndex\n",
        "a=sc.parallelize([1,2,3,4,5],6) #1/2/3/4/5/6...... it will give same ouptput\n",
        "a.zipWithIndex().collect()"
      ],
      "metadata": {
        "colab": {
          "base_uri": "https://localhost:8080/"
        },
        "id": "lwhelPaISL7i",
        "outputId": "5f387ee5-4b78-4899-f58b-66d10350dcf1"
      },
      "execution_count": null,
      "outputs": [
        {
          "output_type": "execute_result",
          "data": {
            "text/plain": [
              "[(1, 0), (2, 1), (3, 2), (4, 3), (5, 4)]"
            ]
          },
          "metadata": {},
          "execution_count": 117
        }
      ]
    },
    {
      "cell_type": "code",
      "source": [
        "#repartition -> to inc or dec no.of partitions(full shufffle across all partitions)\n",
        "a=sc.parallelize(range(20))\n",
        "a.repartition(3).glom().collect()"
      ],
      "metadata": {
        "colab": {
          "base_uri": "https://localhost:8080/"
        },
        "id": "_J0gfy2YStGw",
        "outputId": "b3cce200-59bf-48f7-9439-0734b56f039e"
      },
      "execution_count": null,
      "outputs": [
        {
          "output_type": "execute_result",
          "data": {
            "text/plain": [
              "[[], [0, 1, 2, 3, 4, 5, 6, 7, 8, 9], [10, 11, 12, 13, 14, 15, 16, 17, 18, 19]]"
            ]
          },
          "metadata": {},
          "execution_count": 164
        }
      ]
    },
    {
      "cell_type": "code",
      "source": [
        "sc.parallelize(range(12),5).glom().collect()  #repartition (both are same)"
      ],
      "metadata": {
        "colab": {
          "base_uri": "https://localhost:8080/"
        },
        "id": "ohd9UeOOWpbO",
        "outputId": "1e258839-e570-4ab5-e928-66c19b00b9a7"
      },
      "execution_count": null,
      "outputs": [
        {
          "output_type": "execute_result",
          "data": {
            "text/plain": [
              "[[0, 1, 2, 3, 4, 5], [6, 7, 8, 9, 10, 11, 12], [13, 14, 15, 16, 17, 18, 19]]"
            ]
          },
          "metadata": {},
          "execution_count": 169
        }
      ]
    },
    {
      "cell_type": "code",
      "source": [
        "#coalesce -> to dec num of partitions(combines existing partitions to avoid full shuffle)\n",
        "a=sc.parallelize(range(12),5)   #sc.parallelize(range(12),5).coalesce(2).glom().collect()\n",
        "a.coalesce(2).glom().collect()  #reduces 5 partitions(above) to two partitions"
      ],
      "metadata": {
        "colab": {
          "base_uri": "https://localhost:8080/"
        },
        "id": "mESTRBioVJPD",
        "outputId": "1025598f-47d3-45b5-b532-b483181ec36a"
      },
      "execution_count": null,
      "outputs": [
        {
          "output_type": "execute_result",
          "data": {
            "text/plain": [
              "[[0, 1, 2, 3], [4, 5, 6, 7, 8, 9, 10, 11]]"
            ]
          },
          "metadata": {},
          "execution_count": 168
        }
      ]
    }
  ]
}
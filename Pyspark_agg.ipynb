{
  "nbformat": 4,
  "nbformat_minor": 0,
  "metadata": {
    "colab": {
      "name": "Pyspark agg.ipynb",
      "provenance": [],
      "authorship_tag": "ABX9TyN5UDYdWDrhYou3GNb2EeCw",
      "include_colab_link": true
    },
    "kernelspec": {
      "name": "python3",
      "display_name": "Python 3"
    },
    "language_info": {
      "name": "python"
    }
  },
  "cells": [
    {
      "cell_type": "markdown",
      "metadata": {
        "id": "view-in-github",
        "colab_type": "text"
      },
      "source": [
        "<a href=\"https://colab.research.google.com/github/IVReddy81/pyspark/blob/main/Pyspark_agg.ipynb\" target=\"_parent\"><img src=\"https://colab.research.google.com/assets/colab-badge.svg\" alt=\"Open In Colab\"/></a>"
      ]
    },
    {
      "cell_type": "code",
      "source": [
        "data=[10,20,10,30,40,10,20,50]\n",
        "rd=spark.sparkContext.parallelize(data)\n",
        "df=rd.map(lambda x:(x,)).toDF([\"val\"])\n",
        "df.show()"
      ],
      "metadata": {
        "colab": {
          "base_uri": "https://localhost:8080/"
        },
        "id": "Z-FITnpMmfav",
        "outputId": "0cc8cc0b-7aeb-48e9-88af-4e1d722d2af3"
      },
      "execution_count": 233,
      "outputs": [
        {
          "output_type": "stream",
          "name": "stdout",
          "text": [
            "+---+\n",
            "|val|\n",
            "+---+\n",
            "| 10|\n",
            "| 20|\n",
            "| 10|\n",
            "| 30|\n",
            "| 40|\n",
            "| 10|\n",
            "| 20|\n",
            "| 50|\n",
            "+---+\n",
            "\n"
          ]
        }
      ]
    },
    {
      "cell_type": "code",
      "source": [
        "from pyspark.sql.functions import *\n",
        "df.select(approx_count_distinct(\"val\")).show()"
      ],
      "metadata": {
        "colab": {
          "base_uri": "https://localhost:8080/"
        },
        "id": "hFJNs9VE2pUX",
        "outputId": "a064253d-5594-4127-fe53-891387cc4d76"
      },
      "execution_count": 186,
      "outputs": [
        {
          "output_type": "stream",
          "name": "stdout",
          "text": [
            "+--------------------------+\n",
            "|approx_count_distinct(val)|\n",
            "+--------------------------+\n",
            "|                         5|\n",
            "+--------------------------+\n",
            "\n"
          ]
        }
      ]
    },
    {
      "cell_type": "code",
      "source": [
        "df.select(collect_list(\"val\")).collect()[0][0]  #[10, 20, 10, 30, 40, 10, 20, 50]\n",
        "df.select(collect_list(\"val\")).collect()[0] #Row(collect_list(val)=[10, 20, 10, 30, 40, 10, 20, 50])\n",
        "df.select(collect_list(\"val\")).collect() #[Row(collect_list(val)=[10, 20, 10, 30, 40, 10, 20, 50])]\n",
        "df.select(collect_list(\"val\")).show(1,False)\n",
        "'''\n",
        "+--------------------------------+\n",
        "|collect_list(val)               |\n",
        "+--------------------------------+\n",
        "|[10, 20, 10, 30, 40, 10, 20, 50]|\n",
        "+--------------------------------+'''"
      ],
      "metadata": {
        "colab": {
          "base_uri": "https://localhost:8080/"
        },
        "id": "YznhAKFS28_N",
        "outputId": "b0ecdf64-9ddc-4c36-fe8f-38907d7fac86"
      },
      "execution_count": 212,
      "outputs": [
        {
          "output_type": "execute_result",
          "data": {
            "text/plain": [
              "23.75"
            ]
          },
          "metadata": {},
          "execution_count": 212
        }
      ]
    },
    {
      "cell_type": "code",
      "source": [
        "df.select(collect_list(\"val\")).collect()[0][0]  #converts to list with duplicates"
      ],
      "metadata": {
        "colab": {
          "base_uri": "https://localhost:8080/"
        },
        "id": "hui6TINn4RmS",
        "outputId": "52b5af75-c706-4717-ffa9-71bc7f169f79"
      },
      "execution_count": 217,
      "outputs": [
        {
          "output_type": "execute_result",
          "data": {
            "text/plain": [
              "[10, 20, 10, 30, 40, 10, 20, 50]"
            ]
          },
          "metadata": {},
          "execution_count": 217
        }
      ]
    },
    {
      "cell_type": "code",
      "source": [
        "df.select(collect_set(\"val\")).collect()[0][0]  #converts to list with no duplictaes"
      ],
      "metadata": {
        "colab": {
          "base_uri": "https://localhost:8080/"
        },
        "id": "ECv6T-c-6q-E",
        "outputId": "bb90d228-0673-4d4b-978d-b960ec0931bb"
      },
      "execution_count": 219,
      "outputs": [
        {
          "output_type": "execute_result",
          "data": {
            "text/plain": [
              "[30, 20, 50, 10, 40]"
            ]
          },
          "metadata": {},
          "execution_count": 219
        }
      ]
    },
    {
      "cell_type": "code",
      "source": [
        "df.select(countDistinct(\"val\")).show() #returns no.of distinct rows count"
      ],
      "metadata": {
        "colab": {
          "base_uri": "https://localhost:8080/"
        },
        "id": "0RiPyr7A60LJ",
        "outputId": "a7a8f28a-67c6-42bc-db89-e5fa29adb46a"
      },
      "execution_count": 237,
      "outputs": [
        {
          "output_type": "stream",
          "name": "stdout",
          "text": [
            "+-------------------+\n",
            "|count(DISTINCT val)|\n",
            "+-------------------+\n",
            "|                  5|\n",
            "+-------------------+\n",
            "\n"
          ]
        }
      ]
    },
    {
      "cell_type": "code",
      "source": [
        "df.select(count(\"val\")).show() #returns no.of rows"
      ],
      "metadata": {
        "colab": {
          "base_uri": "https://localhost:8080/"
        },
        "id": "vUAUPQYk8CRv",
        "outputId": "e199a3fc-e016-4f06-855f-d2fb6b22edda"
      },
      "execution_count": 238,
      "outputs": [
        {
          "output_type": "stream",
          "name": "stdout",
          "text": [
            "+----------+\n",
            "|count(val)|\n",
            "+----------+\n",
            "|         8|\n",
            "+----------+\n",
            "\n"
          ]
        }
      ]
    },
    {
      "cell_type": "code",
      "source": [
        "df.select(first(\"val\")).show() #returns first value"
      ],
      "metadata": {
        "colab": {
          "base_uri": "https://localhost:8080/"
        },
        "id": "25xGFkF78IdH",
        "outputId": "45b0728a-1ac5-4fef-ffab-24c86321e296"
      },
      "execution_count": 239,
      "outputs": [
        {
          "output_type": "stream",
          "name": "stdout",
          "text": [
            "+----------+\n",
            "|first(val)|\n",
            "+----------+\n",
            "|        10|\n",
            "+----------+\n",
            "\n"
          ]
        }
      ]
    },
    {
      "cell_type": "code",
      "source": [
        "df.select(last(\"val\")).show() #returns last value"
      ],
      "metadata": {
        "colab": {
          "base_uri": "https://localhost:8080/"
        },
        "id": "WLYXKcJH8Nsv",
        "outputId": "efb2d44f-dc20-4e51-f435-a29ad1c45877"
      },
      "execution_count": 240,
      "outputs": [
        {
          "output_type": "stream",
          "name": "stdout",
          "text": [
            "+---------+\n",
            "|last(val)|\n",
            "+---------+\n",
            "|       50|\n",
            "+---------+\n",
            "\n"
          ]
        }
      ]
    },
    {
      "cell_type": "code",
      "source": [
        "df.select(kurtosis(\"val\")).show()"
      ],
      "metadata": {
        "colab": {
          "base_uri": "https://localhost:8080/"
        },
        "id": "5gjEJPkn8lo2",
        "outputId": "4c99b682-089a-4336-8a8c-44ea8d6d848b"
      },
      "execution_count": 241,
      "outputs": [
        {
          "output_type": "stream",
          "name": "stdout",
          "text": [
            "+-------------------+\n",
            "|      kurtosis(val)|\n",
            "+-------------------+\n",
            "|-0.9249178498356994|\n",
            "+-------------------+\n",
            "\n"
          ]
        }
      ]
    },
    {
      "cell_type": "code",
      "source": [
        "df.select(max(\"val\")).show()"
      ],
      "metadata": {
        "colab": {
          "base_uri": "https://localhost:8080/"
        },
        "id": "s0YePr3X8sO-",
        "outputId": "6d8e8e26-c2db-467c-f1b1-b226cc68f33c"
      },
      "execution_count": 243,
      "outputs": [
        {
          "output_type": "stream",
          "name": "stdout",
          "text": [
            "+--------+\n",
            "|max(val)|\n",
            "+--------+\n",
            "|      50|\n",
            "+--------+\n",
            "\n"
          ]
        }
      ]
    },
    {
      "cell_type": "code",
      "source": [
        "df.select(min(\"val\")).show()"
      ],
      "metadata": {
        "colab": {
          "base_uri": "https://localhost:8080/"
        },
        "id": "M25Eo65c8vgL",
        "outputId": "64662142-19d6-4a6f-8df3-244d66b7db78"
      },
      "execution_count": 244,
      "outputs": [
        {
          "output_type": "stream",
          "name": "stdout",
          "text": [
            "+--------+\n",
            "|min(val)|\n",
            "+--------+\n",
            "|      10|\n",
            "+--------+\n",
            "\n"
          ]
        }
      ]
    },
    {
      "cell_type": "code",
      "source": [
        "df.select(mean(\"val\")).show()"
      ],
      "metadata": {
        "colab": {
          "base_uri": "https://localhost:8080/"
        },
        "id": "ItJuTr8E8vnT",
        "outputId": "4cde5915-44eb-4cbe-ae8e-3c8971a9c11f"
      },
      "execution_count": 245,
      "outputs": [
        {
          "output_type": "stream",
          "name": "stdout",
          "text": [
            "+--------+\n",
            "|avg(val)|\n",
            "+--------+\n",
            "|   23.75|\n",
            "+--------+\n",
            "\n"
          ]
        }
      ]
    },
    {
      "cell_type": "code",
      "source": [
        "df.select(sum(\"val\")).show()"
      ],
      "metadata": {
        "colab": {
          "base_uri": "https://localhost:8080/"
        },
        "id": "ca1i8mHi8vum",
        "outputId": "83378a4b-779c-4454-b9a4-435578882320"
      },
      "execution_count": 246,
      "outputs": [
        {
          "output_type": "stream",
          "name": "stdout",
          "text": [
            "+--------+\n",
            "|sum(val)|\n",
            "+--------+\n",
            "|     190|\n",
            "+--------+\n",
            "\n"
          ]
        }
      ]
    },
    {
      "cell_type": "code",
      "source": [
        "df.select(sum_distinct(\"val\")).show()"
      ],
      "metadata": {
        "colab": {
          "base_uri": "https://localhost:8080/"
        },
        "id": "VpsZ6IFA8v1H",
        "outputId": "f5a9f532-477d-48fc-85f6-e0a5c413edb0"
      },
      "execution_count": 252,
      "outputs": [
        {
          "output_type": "stream",
          "name": "stdout",
          "text": [
            "+-----------------+\n",
            "|sum(DISTINCT val)|\n",
            "+-----------------+\n",
            "|              150|\n",
            "+-----------------+\n",
            "\n"
          ]
        }
      ]
    },
    {
      "cell_type": "code",
      "source": [
        "df.select(stddev(\"val\")).show()"
      ],
      "metadata": {
        "colab": {
          "base_uri": "https://localhost:8080/"
        },
        "id": "0BrKlcX88v64",
        "outputId": "78515e57-7d1d-4ebe-a49a-c45fd31388c8"
      },
      "execution_count": 248,
      "outputs": [
        {
          "output_type": "stream",
          "name": "stdout",
          "text": [
            "+------------------+\n",
            "|  stddev_samp(val)|\n",
            "+------------------+\n",
            "|15.059406173077154|\n",
            "+------------------+\n",
            "\n"
          ]
        }
      ]
    },
    {
      "cell_type": "code",
      "source": [
        "df.select(variance(\"val\")).show()"
      ],
      "metadata": {
        "colab": {
          "base_uri": "https://localhost:8080/"
        },
        "id": "BVNM3cfL8wQJ",
        "outputId": "0b44b4c6-e95e-448a-ec27-6de980cbba88"
      },
      "execution_count": 249,
      "outputs": [
        {
          "output_type": "stream",
          "name": "stdout",
          "text": [
            "+------------------+\n",
            "|     var_samp(val)|\n",
            "+------------------+\n",
            "|226.78571428571428|\n",
            "+------------------+\n",
            "\n"
          ]
        }
      ]
    },
    {
      "cell_type": "code",
      "source": [
        "df.select(var_pop(\"val\")).show()"
      ],
      "metadata": {
        "colab": {
          "base_uri": "https://localhost:8080/"
        },
        "id": "ReXxyxMv8wV7",
        "outputId": "e8b38d44-b483-423e-e0c8-3070a9804804"
      },
      "execution_count": 250,
      "outputs": [
        {
          "output_type": "stream",
          "name": "stdout",
          "text": [
            "+------------+\n",
            "|var_pop(val)|\n",
            "+------------+\n",
            "|    198.4375|\n",
            "+------------+\n",
            "\n"
          ]
        }
      ]
    },
    {
      "cell_type": "code",
      "source": [
        "df.select(skewness(\"val\")).show()"
      ],
      "metadata": {
        "colab": {
          "base_uri": "https://localhost:8080/"
        },
        "id": "q9ffH7Yd9Fjy",
        "outputId": "06cba31c-5d2d-460c-8891-4f11305f6c51"
      },
      "execution_count": 251,
      "outputs": [
        {
          "output_type": "stream",
          "name": "stdout",
          "text": [
            "+------------------+\n",
            "|     skewness(val)|\n",
            "+------------------+\n",
            "|0.6581809699763617|\n",
            "+------------------+\n",
            "\n"
          ]
        }
      ]
    }
  ]
}
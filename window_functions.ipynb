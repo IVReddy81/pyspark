{
  "nbformat": 4,
  "nbformat_minor": 0,
  "metadata": {
    "colab": {
      "name": "window functions.ipynb",
      "provenance": [],
      "authorship_tag": "ABX9TyOmb3/RR99zn2csj+phA43h",
      "include_colab_link": true
    },
    "kernelspec": {
      "name": "python3",
      "display_name": "Python 3"
    },
    "language_info": {
      "name": "python"
    }
  },
  "cells": [
    {
      "cell_type": "markdown",
      "metadata": {
        "id": "view-in-github",
        "colab_type": "text"
      },
      "source": [
        "<a href=\"https://colab.research.google.com/github/IVReddy81/pyspark/blob/main/window_functions.ipynb\" target=\"_parent\"><img src=\"https://colab.research.google.com/assets/colab-badge.svg\" alt=\"Open In Colab\"/></a>"
      ]
    },
    {
      "cell_type": "code",
      "source": [
        "df=spark.read.load(\"/content/s1.txt\",format=\"csv\",header=True,delimiter=\"|\")\n",
        "df.show()"
      ],
      "metadata": {
        "colab": {
          "base_uri": "https://localhost:8080/"
        },
        "id": "iHgzuHzx-kU4",
        "outputId": "9a6a3d6a-8c1d-449c-b096-0d853a16897b"
      },
      "execution_count": 9,
      "outputs": [
        {
          "output_type": "stream",
          "name": "stdout",
          "text": [
            "+-----+----+----+\n",
            "| name|dept| sal|\n",
            "+-----+----+----+\n",
            "| king|  CA|1000|\n",
            "|king1| MCA|2000|\n",
            "|king3|  CA|2000|\n",
            "|king4| MCA|3000|\n",
            "|king5|  CA|1000|\n",
            "+-----+----+----+\n",
            "\n"
          ]
        }
      ]
    },
    {
      "cell_type": "markdown",
      "source": [
        "## Window Functions"
      ],
      "metadata": {
        "id": "8kYeEMqX-1Gg"
      }
    },
    {
      "cell_type": "code",
      "source": [
        "#1. row_number()\n",
        "from pyspark.sql.functions import *\n",
        "from pyspark.sql.window import Window\n",
        "W=Window.partitionBy(\"dept\").orderBy(\"sal\")\n",
        "df.withColumn(\"row_number\",row_number().over(W)).show()"
      ],
      "metadata": {
        "colab": {
          "base_uri": "https://localhost:8080/"
        },
        "id": "UOCY_HpU-3nx",
        "outputId": "34593174-4dc2-4da7-f071-80edf147bbfe"
      },
      "execution_count": 11,
      "outputs": [
        {
          "output_type": "stream",
          "name": "stdout",
          "text": [
            "+-----+----+----+----------+\n",
            "| name|dept| sal|row_number|\n",
            "+-----+----+----+----------+\n",
            "| king|  CA|1000|         1|\n",
            "|king5|  CA|1000|         2|\n",
            "|king3|  CA|2000|         3|\n",
            "|king1| MCA|2000|         1|\n",
            "|king4| MCA|3000|         2|\n",
            "+-----+----+----+----------+\n",
            "\n"
          ]
        }
      ]
    },
    {
      "cell_type": "code",
      "source": [
        "#rank()\n",
        "df.withColumn(\"rank\",rank().over(W)).show()"
      ],
      "metadata": {
        "colab": {
          "base_uri": "https://localhost:8080/"
        },
        "id": "l5zW-qL1AKOB",
        "outputId": "a1ee094f-8314-4625-e9b6-067cb87d8476"
      },
      "execution_count": 12,
      "outputs": [
        {
          "output_type": "stream",
          "name": "stdout",
          "text": [
            "+-----+----+----+----+\n",
            "| name|dept| sal|rank|\n",
            "+-----+----+----+----+\n",
            "| king|  CA|1000|   1|\n",
            "|king5|  CA|1000|   1|\n",
            "|king3|  CA|2000|   3|\n",
            "|king1| MCA|2000|   1|\n",
            "|king4| MCA|3000|   2|\n",
            "+-----+----+----+----+\n",
            "\n"
          ]
        }
      ]
    },
    {
      "cell_type": "code",
      "source": [
        "#dense_rank()\n",
        "df.withColumn(\"dense_rank\",dense_rank().over(W)).show()"
      ],
      "metadata": {
        "colab": {
          "base_uri": "https://localhost:8080/"
        },
        "id": "4oh0jxQoAcTC",
        "outputId": "1ea74a97-aafb-4936-d5ee-1efa7f732813"
      },
      "execution_count": 13,
      "outputs": [
        {
          "output_type": "stream",
          "name": "stdout",
          "text": [
            "+-----+----+----+----------+\n",
            "| name|dept| sal|dense_rank|\n",
            "+-----+----+----+----------+\n",
            "| king|  CA|1000|         1|\n",
            "|king5|  CA|1000|         1|\n",
            "|king3|  CA|2000|         2|\n",
            "|king1| MCA|2000|         1|\n",
            "|king4| MCA|3000|         2|\n",
            "+-----+----+----+----------+\n",
            "\n"
          ]
        }
      ]
    },
    {
      "cell_type": "code",
      "source": [
        "#percent_rank()\n",
        "df.withColumn(\"percent_rank\",percent_rank().over(W)).show()"
      ],
      "metadata": {
        "colab": {
          "base_uri": "https://localhost:8080/"
        },
        "id": "Ex1ttp6bAi47",
        "outputId": "a07c43ec-d5a5-4f77-851b-bb80477ef3da"
      },
      "execution_count": 14,
      "outputs": [
        {
          "output_type": "stream",
          "name": "stdout",
          "text": [
            "+-----+----+----+------------+\n",
            "| name|dept| sal|percent_rank|\n",
            "+-----+----+----+------------+\n",
            "| king|  CA|1000|         0.0|\n",
            "|king5|  CA|1000|         0.0|\n",
            "|king3|  CA|2000|         1.0|\n",
            "|king1| MCA|2000|         0.0|\n",
            "|king4| MCA|3000|         1.0|\n",
            "+-----+----+----+------------+\n",
            "\n"
          ]
        }
      ]
    },
    {
      "cell_type": "code",
      "source": [
        "#ntile(n)\n",
        "df.withColumn(\"ntile\",ntile(2).over(W)).show()"
      ],
      "metadata": {
        "colab": {
          "base_uri": "https://localhost:8080/"
        },
        "id": "omvg0f2IAxjo",
        "outputId": "3fe9a7b9-1609-48cd-aa99-b0cb7f49006b"
      },
      "execution_count": 18,
      "outputs": [
        {
          "output_type": "stream",
          "name": "stdout",
          "text": [
            "+-----+----+----+-----+\n",
            "| name|dept| sal|ntile|\n",
            "+-----+----+----+-----+\n",
            "| king|  CA|1000|    1|\n",
            "|king5|  CA|1000|    1|\n",
            "|king3|  CA|2000|    2|\n",
            "|king1| MCA|2000|    1|\n",
            "|king4| MCA|3000|    2|\n",
            "+-----+----+----+-----+\n",
            "\n"
          ]
        }
      ]
    },
    {
      "cell_type": "markdown",
      "source": [
        "## WINDOW ANALYTIC FUNCTIONS"
      ],
      "metadata": {
        "id": "5hgh4OwRBEY9"
      }
    },
    {
      "cell_type": "code",
      "source": [
        "#cume_dist()\n",
        "df.withColumn(\"cume_dist\",cume_dist().over(W)).show()"
      ],
      "metadata": {
        "colab": {
          "base_uri": "https://localhost:8080/"
        },
        "id": "gM4qXKUgBKtn",
        "outputId": "6b4a5f8b-db50-4481-adc4-2a6df66aa90f"
      },
      "execution_count": 20,
      "outputs": [
        {
          "output_type": "stream",
          "name": "stdout",
          "text": [
            "+-----+----+----+------------------+\n",
            "| name|dept| sal|         cume_dist|\n",
            "+-----+----+----+------------------+\n",
            "| king|  CA|1000|0.6666666666666666|\n",
            "|king5|  CA|1000|0.6666666666666666|\n",
            "|king3|  CA|2000|               1.0|\n",
            "|king1| MCA|2000|               0.5|\n",
            "|king4| MCA|3000|               1.0|\n",
            "+-----+----+----+------------------+\n",
            "\n"
          ]
        }
      ]
    },
    {
      "cell_type": "code",
      "source": [
        "#lag(\"col\",n)\n",
        "df.withColumn(\"lag\",lag(\"sal\",2).over(W)).show()"
      ],
      "metadata": {
        "colab": {
          "base_uri": "https://localhost:8080/"
        },
        "id": "W86oxkpYBvC5",
        "outputId": "8c048314-269c-41ee-bd1a-775fafe7d381"
      },
      "execution_count": 22,
      "outputs": [
        {
          "output_type": "stream",
          "name": "stdout",
          "text": [
            "+-----+----+----+----+\n",
            "| name|dept| sal| lag|\n",
            "+-----+----+----+----+\n",
            "| king|  CA|1000|null|\n",
            "|king5|  CA|1000|null|\n",
            "|king3|  CA|2000|1000|\n",
            "|king1| MCA|2000|null|\n",
            "|king4| MCA|3000|null|\n",
            "+-----+----+----+----+\n",
            "\n"
          ]
        }
      ]
    },
    {
      "cell_type": "code",
      "source": [
        "#lead(\"col\",n)\n",
        "df.withColumn(\"lead\",lead(\"sal\",2).over(W)).show()"
      ],
      "metadata": {
        "colab": {
          "base_uri": "https://localhost:8080/"
        },
        "id": "KoHAFFM9B7Ps",
        "outputId": "b7f1bf39-567b-47e4-d33e-2be6e640c6f2"
      },
      "execution_count": 26,
      "outputs": [
        {
          "output_type": "stream",
          "name": "stdout",
          "text": [
            "+-----+----+----+----+\n",
            "| name|dept| sal|lead|\n",
            "+-----+----+----+----+\n",
            "| king|  CA|1000|2000|\n",
            "|king5|  CA|1000|null|\n",
            "|king3|  CA|2000|null|\n",
            "|king1| MCA|2000|null|\n",
            "|king4| MCA|3000|null|\n",
            "+-----+----+----+----+\n",
            "\n"
          ]
        }
      ]
    },
    {
      "cell_type": "markdown",
      "source": [
        "## WINDOW AGGREGATE FUNCTIONS"
      ],
      "metadata": {
        "id": "MRPlroJYDNtb"
      }
    },
    {
      "cell_type": "code",
      "source": [
        "#sum(\"col\")\n",
        "df.withColumn(\"sum\",sum(\"sal\").over(W)).show()"
      ],
      "metadata": {
        "colab": {
          "base_uri": "https://localhost:8080/"
        },
        "id": "FcTvc7RLC2F1",
        "outputId": "7c3cc89f-7ba5-41b5-c6c0-4646dae8b133"
      },
      "execution_count": 31,
      "outputs": [
        {
          "output_type": "stream",
          "name": "stdout",
          "text": [
            "+-----+----+----+------+\n",
            "| name|dept| sal|   sum|\n",
            "+-----+----+----+------+\n",
            "| king|  CA|1000|2000.0|\n",
            "|king5|  CA|1000|2000.0|\n",
            "|king3|  CA|2000|4000.0|\n",
            "|king1| MCA|2000|2000.0|\n",
            "|king4| MCA|3000|5000.0|\n",
            "+-----+----+----+------+\n",
            "\n"
          ]
        }
      ]
    },
    {
      "cell_type": "code",
      "source": [
        "#avg(\"col\")\n",
        "df.withColumn(\"avg\",avg(\"sal\").over(W)).show()"
      ],
      "metadata": {
        "colab": {
          "base_uri": "https://localhost:8080/"
        },
        "id": "i5GUKofIDSIk",
        "outputId": "bee0943e-e434-47eb-ffee-a4191d32913a"
      },
      "execution_count": 33,
      "outputs": [
        {
          "output_type": "stream",
          "name": "stdout",
          "text": [
            "+-----+----+----+------------------+\n",
            "| name|dept| sal|               avg|\n",
            "+-----+----+----+------------------+\n",
            "| king|  CA|1000|            1000.0|\n",
            "|king5|  CA|1000|            1000.0|\n",
            "|king3|  CA|2000|1333.3333333333333|\n",
            "|king1| MCA|2000|            2000.0|\n",
            "|king4| MCA|3000|            2500.0|\n",
            "+-----+----+----+------------------+\n",
            "\n"
          ]
        }
      ]
    },
    {
      "cell_type": "code",
      "source": [
        "#max(\"col\")\n",
        "df.withColumn(\"max\",max(\"sal\").over(W)).show()"
      ],
      "metadata": {
        "colab": {
          "base_uri": "https://localhost:8080/"
        },
        "id": "Pu7kSaUlDge0",
        "outputId": "a8717228-697b-426d-f326-ed6ffdccb5c8"
      },
      "execution_count": 34,
      "outputs": [
        {
          "output_type": "stream",
          "name": "stdout",
          "text": [
            "+-----+----+----+----+\n",
            "| name|dept| sal| max|\n",
            "+-----+----+----+----+\n",
            "| king|  CA|1000|1000|\n",
            "|king5|  CA|1000|1000|\n",
            "|king3|  CA|2000|2000|\n",
            "|king1| MCA|2000|2000|\n",
            "|king4| MCA|3000|3000|\n",
            "+-----+----+----+----+\n",
            "\n"
          ]
        }
      ]
    },
    {
      "cell_type": "code",
      "source": [
        "#min(\"col\")\n",
        "df.withColumn(\"min\",min(\"sal\").over(W)).show()"
      ],
      "metadata": {
        "colab": {
          "base_uri": "https://localhost:8080/"
        },
        "id": "rfyFk6kdDriu",
        "outputId": "97b3ef37-4339-4768-f3be-75fa9389116b"
      },
      "execution_count": 35,
      "outputs": [
        {
          "output_type": "stream",
          "name": "stdout",
          "text": [
            "+-----+----+----+----+\n",
            "| name|dept| sal| min|\n",
            "+-----+----+----+----+\n",
            "| king|  CA|1000|1000|\n",
            "|king5|  CA|1000|1000|\n",
            "|king3|  CA|2000|1000|\n",
            "|king1| MCA|2000|2000|\n",
            "|king4| MCA|3000|2000|\n",
            "+-----+----+----+----+\n",
            "\n"
          ]
        }
      ]
    },
    {
      "cell_type": "code",
      "source": [
        "#collect_list()\n",
        "df.withColumn(\"collect_list\",collect_list(\"sal\").over(W)).show()"
      ],
      "metadata": {
        "colab": {
          "base_uri": "https://localhost:8080/"
        },
        "id": "nVmwZ-WgD0Hw",
        "outputId": "c929e497-79fd-4cb9-c332-44063676f57f"
      },
      "execution_count": 36,
      "outputs": [
        {
          "output_type": "stream",
          "name": "stdout",
          "text": [
            "+-----+----+----+------------------+\n",
            "| name|dept| sal|      collect_list|\n",
            "+-----+----+----+------------------+\n",
            "| king|  CA|1000|      [1000, 1000]|\n",
            "|king5|  CA|1000|      [1000, 1000]|\n",
            "|king3|  CA|2000|[1000, 1000, 2000]|\n",
            "|king1| MCA|2000|            [2000]|\n",
            "|king4| MCA|3000|      [2000, 3000]|\n",
            "+-----+----+----+------------------+\n",
            "\n"
          ]
        }
      ]
    }
  ]
}
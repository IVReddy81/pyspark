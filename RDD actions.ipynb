{
  "nbformat": 4,
  "nbformat_minor": 0,
  "metadata": {
    "colab": {
      "name": "Untitled1.ipynb",
      "provenance": [],
      "authorship_tag": "ABX9TyMl/I/LYC+qImTwly1cl26I",
      "include_colab_link": true
    },
    "kernelspec": {
      "name": "python3",
      "display_name": "Python 3"
    },
    "language_info": {
      "name": "python"
    }
  },
  "cells": [
    {
      "cell_type": "markdown",
      "metadata": {
        "id": "view-in-github",
        "colab_type": "text"
      },
      "source": [
        "<a href=\"https://colab.research.google.com/github/IVReddy81/pyspark/blob/main/RDD%20actions.ipynb\" target=\"_parent\"><img src=\"https://colab.research.google.com/assets/colab-badge.svg\" alt=\"Open In Colab\"/></a>"
      ]
    },
    {
      "cell_type": "code",
      "source": [
        "a=sc.parallelize([1,2,3,2,3,4,5])\n",
        "a.collect()"
      ],
      "metadata": {
        "colab": {
          "base_uri": "https://localhost:8080/"
        },
        "id": "TzONf5sveVoW",
        "outputId": "d666c4da-72d3-41d2-8811-960c1846b7d9"
      },
      "execution_count": 2,
      "outputs": [
        {
          "output_type": "execute_result",
          "data": {
            "text/plain": [
              "[1, 2, 3, 2, 3, 4, 5]"
            ]
          },
          "metadata": {},
          "execution_count": 2
        }
      ]
    },
    {
      "cell_type": "code",
      "source": [
        "a=sc.parallelize([1,2,3,2,3,4,5])\n",
        "a.take(5)"
      ],
      "metadata": {
        "colab": {
          "base_uri": "https://localhost:8080/"
        },
        "outputId": "319eceac-8d6e-41f0-f13b-12496988455c",
        "id": "2_-EJK_GhE2n"
      },
      "execution_count": 3,
      "outputs": [
        {
          "output_type": "execute_result",
          "data": {
            "text/plain": [
              "[1, 2, 3, 2, 3]"
            ]
          },
          "metadata": {},
          "execution_count": 3
        }
      ]
    },
    {
      "cell_type": "code",
      "source": [
        "a=sc.parallelize([1,2,3,2,3,4,5])\n",
        "a.takeOrdered(5)"
      ],
      "metadata": {
        "colab": {
          "base_uri": "https://localhost:8080/"
        },
        "outputId": "5fb548bc-e166-4fdc-84b0-a6bb0f7546f9",
        "id": "nYk9BwKKhECB"
      },
      "execution_count": 4,
      "outputs": [
        {
          "output_type": "execute_result",
          "data": {
            "text/plain": [
              "[1, 2, 2, 3, 3]"
            ]
          },
          "metadata": {},
          "execution_count": 4
        }
      ]
    },
    {
      "cell_type": "code",
      "source": [
        "a=sc.parallelize([1,2,3,2,3,4,5])\n",
        "a.count()"
      ],
      "metadata": {
        "colab": {
          "base_uri": "https://localhost:8080/"
        },
        "outputId": "3cfe8f56-36af-4561-f1a1-25d560adad36",
        "id": "ecwgQLo4hHTT"
      },
      "execution_count": 5,
      "outputs": [
        {
          "output_type": "execute_result",
          "data": {
            "text/plain": [
              "7"
            ]
          },
          "metadata": {},
          "execution_count": 5
        }
      ]
    },
    {
      "cell_type": "code",
      "source": [
        "a=sc.parallelize([1,2,3,2,3,4,5])\n",
        "a.takeOrdered(5)"
      ],
      "metadata": {
        "colab": {
          "base_uri": "https://localhost:8080/"
        },
        "outputId": "9e6144e5-4436-4ef7-a72d-75feff22e29c",
        "id": "sB5-wn3NhHuW"
      },
      "execution_count": 6,
      "outputs": [
        {
          "output_type": "execute_result",
          "data": {
            "text/plain": [
              "[1, 2, 2, 3, 3]"
            ]
          },
          "metadata": {},
          "execution_count": 6
        }
      ]
    },
    {
      "cell_type": "code",
      "source": [
        "a=sc.parallelize([1,2,3,2,3,4,5])\n",
        "a.first()"
      ],
      "metadata": {
        "colab": {
          "base_uri": "https://localhost:8080/"
        },
        "outputId": "a4942677-325d-4b4c-cfd0-a0974db2014a",
        "id": "WD3VJFg4hH6n"
      },
      "execution_count": 7,
      "outputs": [
        {
          "output_type": "execute_result",
          "data": {
            "text/plain": [
              "1"
            ]
          },
          "metadata": {},
          "execution_count": 7
        }
      ]
    },
    {
      "cell_type": "code",
      "source": [
        "from operator import *\n",
        "a=sc.parallelize([1,2,3,2,3,4,5])\n",
        "a.reduce(add)"
      ],
      "metadata": {
        "colab": {
          "base_uri": "https://localhost:8080/"
        },
        "outputId": "eedd8c46-844b-4d72-d9c0-df0bf0be0ae2",
        "id": "2iR5lvYThIBf"
      },
      "execution_count": 8,
      "outputs": [
        {
          "output_type": "execute_result",
          "data": {
            "text/plain": [
              "20"
            ]
          },
          "metadata": {},
          "execution_count": 8
        }
      ]
    },
    {
      "cell_type": "code",
      "source": [
        "a=sc.parallelize([1,2,3,2,3,4,5])\n",
        "a.saveAsTextFile(\"/content/t1.txt\")"
      ],
      "metadata": {
        "id": "UIQlTLomhIF-"
      },
      "execution_count": 9,
      "outputs": []
    },
    {
      "cell_type": "code",
      "source": [
        "a=sc.parallelize([1,2,3,2,3,4,5])\n",
        "a.sum()"
      ],
      "metadata": {
        "colab": {
          "base_uri": "https://localhost:8080/"
        },
        "outputId": "af48b95a-2e0b-429c-cfd1-2ad9a1511b3f",
        "id": "iPPm3EcphILm"
      },
      "execution_count": 10,
      "outputs": [
        {
          "output_type": "execute_result",
          "data": {
            "text/plain": [
              "20"
            ]
          },
          "metadata": {},
          "execution_count": 10
        }
      ]
    },
    {
      "cell_type": "code",
      "source": [
        "a=sc.parallelize([1,2,3,2,3,4,5])\n",
        "a.min()"
      ],
      "metadata": {
        "colab": {
          "base_uri": "https://localhost:8080/"
        },
        "outputId": "f4e8029c-099a-41e9-aaca-7e6da77f42de",
        "id": "w5oYLtOKk5Fk"
      },
      "execution_count": 11,
      "outputs": [
        {
          "output_type": "execute_result",
          "data": {
            "text/plain": [
              "1"
            ]
          },
          "metadata": {},
          "execution_count": 11
        }
      ]
    },
    {
      "cell_type": "code",
      "source": [
        "a=sc.parallelize([1,2,3,2,3,4,5])\n",
        "a.max()"
      ],
      "metadata": {
        "colab": {
          "base_uri": "https://localhost:8080/"
        },
        "outputId": "5f8ac487-271a-4fbc-a0b0-2e63748e1729",
        "id": "tvVGbH8Nk5NJ"
      },
      "execution_count": 12,
      "outputs": [
        {
          "output_type": "execute_result",
          "data": {
            "text/plain": [
              "5"
            ]
          },
          "metadata": {},
          "execution_count": 12
        }
      ]
    },
    {
      "cell_type": "code",
      "source": [
        "a=sc.parallelize([1,2,3,2,3,4,5])\n",
        "a.mean()"
      ],
      "metadata": {
        "colab": {
          "base_uri": "https://localhost:8080/"
        },
        "outputId": "59d9d75e-c65c-494a-9987-97fec3f839e2",
        "id": "-u7Bxanuk5UR"
      },
      "execution_count": 13,
      "outputs": [
        {
          "output_type": "execute_result",
          "data": {
            "text/plain": [
              "2.857142857142857"
            ]
          },
          "metadata": {},
          "execution_count": 13
        }
      ]
    },
    {
      "cell_type": "code",
      "source": [
        "a=sc.parallelize([1,2,3,2,3,4,5])\n",
        "a.stdev()"
      ],
      "metadata": {
        "colab": {
          "base_uri": "https://localhost:8080/"
        },
        "outputId": "d1f8a818-3471-40b1-99e8-e0073355e940",
        "id": "1oNWo8rWk5Yt"
      },
      "execution_count": 14,
      "outputs": [
        {
          "output_type": "execute_result",
          "data": {
            "text/plain": [
              "1.2453996981544782"
            ]
          },
          "metadata": {},
          "execution_count": 14
        }
      ]
    },
    {
      "cell_type": "code",
      "source": [
        "a=sc.parallelize([1,2,3,2,3,4,5])\n",
        "a.countByValue()"
      ],
      "metadata": {
        "colab": {
          "base_uri": "https://localhost:8080/"
        },
        "outputId": "5c9ad4b4-159f-4ad0-9f9c-c70d1beb782e",
        "id": "ca5ltsTUk5c_"
      },
      "execution_count": 15,
      "outputs": [
        {
          "output_type": "execute_result",
          "data": {
            "text/plain": [
              "defaultdict(int, {1: 1, 2: 2, 3: 2, 4: 1, 5: 1})"
            ]
          },
          "metadata": {},
          "execution_count": 15
        }
      ]
    },
    {
      "cell_type": "code",
      "source": [
        "from operator import add\n",
        "a=sc.parallelize([(1,2),(1,4),(2,9),(2,7)])\n",
        "a.reduceByKey(add).collect()"
      ],
      "metadata": {
        "colab": {
          "base_uri": "https://localhost:8080/"
        },
        "outputId": "87fcfd9e-2cf8-415c-a1eb-efa4f58b54e0",
        "id": "jBKceHCQk5iR"
      },
      "execution_count": 16,
      "outputs": [
        {
          "output_type": "execute_result",
          "data": {
            "text/plain": [
              "[(2, 16), (1, 6)]"
            ]
          },
          "metadata": {},
          "execution_count": 16
        }
      ]
    },
    {
      "cell_type": "code",
      "source": [
        "a=sc.parallelize([(1,2),(1,4),(2,9),(2,7)])\n",
        "a.sortByKey().collect()"
      ],
      "metadata": {
        "colab": {
          "base_uri": "https://localhost:8080/"
        },
        "id": "p_G1h-swJyKB",
        "outputId": "aabe6852-a84a-4e2b-e19b-889ffe0f4175"
      },
      "execution_count": 17,
      "outputs": [
        {
          "output_type": "execute_result",
          "data": {
            "text/plain": [
              "[(1, 2), (1, 4), (2, 9), (2, 7)]"
            ]
          },
          "metadata": {},
          "execution_count": 17
        }
      ]
    },
    {
      "cell_type": "code",
      "source": [
        "a=sc.parallelize([(1,2),(1,4),(2,9),(2,7)])\n",
        "a.groupByKey().collect()"
      ],
      "metadata": {
        "colab": {
          "base_uri": "https://localhost:8080/"
        },
        "id": "NdjfDbNvJ3rB",
        "outputId": "a896f832-dbca-4b0c-c2fc-355ed1017fcf"
      },
      "execution_count": 18,
      "outputs": [
        {
          "output_type": "execute_result",
          "data": {
            "text/plain": [
              "[(2, <pyspark.resultiterable.ResultIterable at 0x7f3cd49704d0>),\n",
              " (1, <pyspark.resultiterable.ResultIterable at 0x7f3cd49707d0>)]"
            ]
          },
          "metadata": {},
          "execution_count": 18
        }
      ]
    },
    {
      "cell_type": "code",
      "source": [
        "a=sc.parallelize([(1,2),(1,4),(2,9),(2,7)])\n",
        "a.mapValues(lambda y: y+1).collect()"
      ],
      "metadata": {
        "colab": {
          "base_uri": "https://localhost:8080/"
        },
        "id": "RELgPdsdKRmX",
        "outputId": "ab757f04-558e-4f0a-b73e-d37a55ae51f9"
      },
      "execution_count": 19,
      "outputs": [
        {
          "output_type": "execute_result",
          "data": {
            "text/plain": [
              "[(1, 3), (1, 5), (2, 10), (2, 8)]"
            ]
          },
          "metadata": {},
          "execution_count": 19
        }
      ]
    },
    {
      "cell_type": "code",
      "source": [
        "a=sc.parallelize([(1,2),(1,4),(2,9),(2,7)])\n",
        "a.flatMapValues(lambda x: (x,1)).collect()"
      ],
      "metadata": {
        "colab": {
          "base_uri": "https://localhost:8080/"
        },
        "id": "67AKZf5wKjAo",
        "outputId": "cd9ebce3-b175-4510-eb26-f481e3ad26c2"
      },
      "execution_count": 20,
      "outputs": [
        {
          "output_type": "execute_result",
          "data": {
            "text/plain": [
              "[(1, 2), (1, 1), (1, 4), (1, 1), (2, 9), (2, 1), (2, 7), (2, 1)]"
            ]
          },
          "metadata": {},
          "execution_count": 20
        }
      ]
    },
    {
      "cell_type": "code",
      "source": [
        "a=sc.parallelize([(1,2),(1,4),(2,9),(2,7)])\n",
        "a.keys().collect()"
      ],
      "metadata": {
        "colab": {
          "base_uri": "https://localhost:8080/"
        },
        "id": "cEuLP5cVKsXp",
        "outputId": "5287a114-5ab7-4ecf-94ce-47c09675078f"
      },
      "execution_count": 21,
      "outputs": [
        {
          "output_type": "execute_result",
          "data": {
            "text/plain": [
              "[1, 1, 2, 2]"
            ]
          },
          "metadata": {},
          "execution_count": 21
        }
      ]
    },
    {
      "cell_type": "code",
      "source": [
        "a=sc.parallelize([(1,2),(1,4),(2,9),(2,7)])\n",
        "b=sc.parallelize([(2,9),(1,4)])\n",
        "a.join(b).collect()"
      ],
      "metadata": {
        "colab": {
          "base_uri": "https://localhost:8080/"
        },
        "id": "DlZVO5e3KyZ2",
        "outputId": "898e2028-3d7b-446a-a79d-fa43114635cb"
      },
      "execution_count": 22,
      "outputs": [
        {
          "output_type": "execute_result",
          "data": {
            "text/plain": [
              "[(1, (2, 4)), (1, (4, 4)), (2, (9, 9)), (2, (7, 9))]"
            ]
          },
          "metadata": {},
          "execution_count": 22
        }
      ]
    },
    {
      "cell_type": "code",
      "source": [
        "a=sc.parallelize([(1,2),(1,4),(2,9),(2,7)])\n",
        "b=sc.parallelize([(2,9),(4,6),(5,9)])\n",
        "a.subtractByKey(b).collect()"
      ],
      "metadata": {
        "colab": {
          "base_uri": "https://localhost:8080/"
        },
        "id": "gsUk8Mb7K5u-",
        "outputId": "6a993379-197c-465c-ee58-849b17091b88"
      },
      "execution_count": 30,
      "outputs": [
        {
          "output_type": "execute_result",
          "data": {
            "text/plain": [
              "[(1, 2), (1, 4)]"
            ]
          },
          "metadata": {},
          "execution_count": 30
        }
      ]
    },
    {
      "cell_type": "code",
      "source": [
        "a=sc.parallelize([(1,2),(1,4),(2,9),(2,7)])\n",
        "b=sc.parallelize([(2,9),(4,6),(5,9)])\n",
        "a.rightOuterJoin(b).collect()"
      ],
      "metadata": {
        "colab": {
          "base_uri": "https://localhost:8080/"
        },
        "outputId": "71241f03-efb2-4697-b73a-3c4348c3f41c",
        "id": "D-eaAh6TnaeY"
      },
      "execution_count": 33,
      "outputs": [
        {
          "output_type": "execute_result",
          "data": {
            "text/plain": [
              "[(4, (None, 6)), (5, (None, 9)), (2, (9, 9)), (2, (7, 9))]"
            ]
          },
          "metadata": {},
          "execution_count": 33
        }
      ]
    },
    {
      "cell_type": "code",
      "source": [
        "a=sc.parallelize([(1,2),(1,4),(2,9),(2,7)])\n",
        "b=sc.parallelize([(2,9),(4,6),(5,9)])\n",
        "a.leftOuterJoin(b).collect()"
      ],
      "metadata": {
        "colab": {
          "base_uri": "https://localhost:8080/"
        },
        "outputId": "ab68e8d8-7c36-42e2-8b77-44e09cc1b773",
        "id": "nUbZG1ylnK6O"
      },
      "execution_count": 34,
      "outputs": [
        {
          "output_type": "execute_result",
          "data": {
            "text/plain": [
              "[(1, (2, None)), (1, (4, None)), (2, (9, 9)), (2, (7, 9))]"
            ]
          },
          "metadata": {},
          "execution_count": 34
        }
      ]
    },
    {
      "cell_type": "code",
      "source": [
        "a=sc.parallelize([(1,2),(1,4),(2,9),(2,7)])\n",
        "b=sc.parallelize([(2,9),(4,6),(5,9)])\n",
        "a.cogroup(b).collect()"
      ],
      "metadata": {
        "colab": {
          "base_uri": "https://localhost:8080/"
        },
        "outputId": "fd11c0c6-e853-4aa2-d03d-0cd8b95ac7eb",
        "id": "K1AnTHTKnzUm"
      },
      "execution_count": 37,
      "outputs": [
        {
          "output_type": "execute_result",
          "data": {
            "text/plain": [
              "[(4,\n",
              "  (<pyspark.resultiterable.ResultIterable at 0x7f3ccb019c90>,\n",
              "   <pyspark.resultiterable.ResultIterable at 0x7f3ccafd1e10>)),\n",
              " (1,\n",
              "  (<pyspark.resultiterable.ResultIterable at 0x7f3ccb019250>,\n",
              "   <pyspark.resultiterable.ResultIterable at 0x7f3ccb019f90>)),\n",
              " (5,\n",
              "  (<pyspark.resultiterable.ResultIterable at 0x7f3ccb019e10>,\n",
              "   <pyspark.resultiterable.ResultIterable at 0x7f3ccb019a10>)),\n",
              " (2,\n",
              "  (<pyspark.resultiterable.ResultIterable at 0x7f3ccb019ad0>,\n",
              "   <pyspark.resultiterable.ResultIterable at 0x7f3ccb019f50>))]"
            ]
          },
          "metadata": {},
          "execution_count": 37
        }
      ]
    },
    {
      "cell_type": "code",
      "source": [
        "a=sc.parallelize([(1,2,3,4,5),(1,4,3,6,9,4),(2,9,3,5,8,2),(2,7,12,4,7,9)])\n",
        "a.map(lambda x: (list(x[0:2]),list(x[2:]))).collect()"
      ],
      "metadata": {
        "colab": {
          "base_uri": "https://localhost:8080/"
        },
        "outputId": "82068305-0bd7-4914-e4a8-ad560aa9f2e6",
        "id": "BsJch8fKoErg"
      },
      "execution_count": 41,
      "outputs": [
        {
          "output_type": "execute_result",
          "data": {
            "text/plain": [
              "[([1, 2], [3, 4, 5]),\n",
              " ([1, 4], [3, 6, 9, 4]),\n",
              " ([2, 9], [3, 5, 8, 2]),\n",
              " ([2, 7], [12, 4, 7, 9])]"
            ]
          },
          "metadata": {},
          "execution_count": 41
        }
      ]
    }
  ]
}
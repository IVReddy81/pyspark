{
  "nbformat": 4,
  "nbformat_minor": 0,
  "metadata": {
    "colab": {
      "name": "Untitled1.ipynb",
      "provenance": [],
      "authorship_tag": "ABX9TyPiByKK/d0bicsD7724I5qh",
      "include_colab_link": true
    },
    "kernelspec": {
      "name": "python3",
      "display_name": "Python 3"
    },
    "language_info": {
      "name": "python"
    }
  },
  "cells": [
    {
      "cell_type": "markdown",
      "metadata": {
        "id": "view-in-github",
        "colab_type": "text"
      },
      "source": [
        "<a href=\"https://colab.research.google.com/github/IVReddy81/pyspark/blob/main/RDD%20actions.ipynb\" target=\"_parent\"><img src=\"https://colab.research.google.com/assets/colab-badge.svg\" alt=\"Open In Colab\"/></a>"
      ]
    },
    {
      "cell_type": "code",
      "source": [
        "a=sc.parallelize([1,2,3,2,3,4,5])\n",
        "a.collect()"
      ],
      "metadata": {
        "colab": {
          "base_uri": "https://localhost:8080/"
        },
        "id": "TzONf5sveVoW",
        "outputId": "8a186159-9dab-41e1-8e57-34aff9d82608"
      },
      "execution_count": 2,
      "outputs": [
        {
          "output_type": "execute_result",
          "data": {
            "text/plain": [
              "[1, 2, 3, 2, 3, 4, 5]"
            ]
          },
          "metadata": {},
          "execution_count": 2
        }
      ]
    },
    {
      "cell_type": "code",
      "source": [
        "a=sc.parallelize([1,2,3,2,3,4,5])\n",
        "a.take(5)"
      ],
      "metadata": {
        "colab": {
          "base_uri": "https://localhost:8080/"
        },
        "outputId": "edc222fd-a9e1-4fa1-bbb6-75b3e92acaec",
        "id": "2_-EJK_GhE2n"
      },
      "execution_count": 3,
      "outputs": [
        {
          "output_type": "execute_result",
          "data": {
            "text/plain": [
              "[1, 2, 3, 2, 3]"
            ]
          },
          "metadata": {},
          "execution_count": 3
        }
      ]
    },
    {
      "cell_type": "code",
      "source": [
        "a=sc.parallelize([1,2,3,2,3,4,5])\n",
        "a.takeOrdered(5)"
      ],
      "metadata": {
        "colab": {
          "base_uri": "https://localhost:8080/"
        },
        "outputId": "e3fb635f-264e-43c1-b5dc-1a2803f40241",
        "id": "nYk9BwKKhECB"
      },
      "execution_count": 4,
      "outputs": [
        {
          "output_type": "execute_result",
          "data": {
            "text/plain": [
              "[1, 2, 2, 3, 3]"
            ]
          },
          "metadata": {},
          "execution_count": 4
        }
      ]
    },
    {
      "cell_type": "code",
      "source": [
        "a=sc.parallelize([1,2,3,2,3,4,5])\n",
        "a.count()"
      ],
      "metadata": {
        "colab": {
          "base_uri": "https://localhost:8080/"
        },
        "outputId": "0b778b91-10d7-4343-d760-e80c2903fb7b",
        "id": "ecwgQLo4hHTT"
      },
      "execution_count": 5,
      "outputs": [
        {
          "output_type": "execute_result",
          "data": {
            "text/plain": [
              "7"
            ]
          },
          "metadata": {},
          "execution_count": 5
        }
      ]
    },
    {
      "cell_type": "code",
      "source": [
        "a=sc.parallelize([1,2,3,2,3,4,5])\n",
        "a.takeOrdered(5)"
      ],
      "metadata": {
        "colab": {
          "base_uri": "https://localhost:8080/"
        },
        "outputId": "30dc39f4-f3ba-4a4f-8da2-088aab2861a7",
        "id": "sB5-wn3NhHuW"
      },
      "execution_count": 6,
      "outputs": [
        {
          "output_type": "execute_result",
          "data": {
            "text/plain": [
              "[1, 2, 2, 3, 3]"
            ]
          },
          "metadata": {},
          "execution_count": 6
        }
      ]
    },
    {
      "cell_type": "code",
      "source": [
        "a=sc.parallelize([1,2,3,2,3,4,5])\n",
        "a.first()"
      ],
      "metadata": {
        "colab": {
          "base_uri": "https://localhost:8080/"
        },
        "outputId": "9347e632-be8b-4c50-8816-592bc6957f38",
        "id": "WD3VJFg4hH6n"
      },
      "execution_count": 7,
      "outputs": [
        {
          "output_type": "execute_result",
          "data": {
            "text/plain": [
              "1"
            ]
          },
          "metadata": {},
          "execution_count": 7
        }
      ]
    },
    {
      "cell_type": "code",
      "source": [
        "from operator import *\n",
        "a=sc.parallelize([1,2,3,2,3,4,5])\n",
        "a.reduce(add)"
      ],
      "metadata": {
        "colab": {
          "base_uri": "https://localhost:8080/"
        },
        "outputId": "b5042d6a-f0a8-4c59-c5e1-063d68eeec66",
        "id": "2iR5lvYThIBf"
      },
      "execution_count": 8,
      "outputs": [
        {
          "output_type": "execute_result",
          "data": {
            "text/plain": [
              "20"
            ]
          },
          "metadata": {},
          "execution_count": 8
        }
      ]
    },
    {
      "cell_type": "code",
      "source": [
        "a=sc.parallelize([1,2,3,2,3,4,5])\n",
        "a.saveAsTextFile(\"/content/t1.txt\")"
      ],
      "metadata": {
        "id": "UIQlTLomhIF-"
      },
      "execution_count": 9,
      "outputs": []
    },
    {
      "cell_type": "code",
      "source": [
        "a=sc.parallelize([1,2,3,2,3,4,5])\n",
        "a.sum()"
      ],
      "metadata": {
        "colab": {
          "base_uri": "https://localhost:8080/"
        },
        "outputId": "bf881029-05f9-4057-b66c-00eb6a05ae3d",
        "id": "iPPm3EcphILm"
      },
      "execution_count": 10,
      "outputs": [
        {
          "output_type": "execute_result",
          "data": {
            "text/plain": [
              "20"
            ]
          },
          "metadata": {},
          "execution_count": 10
        }
      ]
    },
    {
      "cell_type": "code",
      "source": [
        "a=sc.parallelize([1,2,3,2,3,4,5])\n",
        "a.min()"
      ],
      "metadata": {
        "colab": {
          "base_uri": "https://localhost:8080/"
        },
        "outputId": "ae544b98-c2f9-41f6-a7d3-3644f27db252",
        "id": "w5oYLtOKk5Fk"
      },
      "execution_count": 11,
      "outputs": [
        {
          "output_type": "execute_result",
          "data": {
            "text/plain": [
              "1"
            ]
          },
          "metadata": {},
          "execution_count": 11
        }
      ]
    },
    {
      "cell_type": "code",
      "source": [
        "a=sc.parallelize([1,2,3,2,3,4,5])\n",
        "a.max()"
      ],
      "metadata": {
        "colab": {
          "base_uri": "https://localhost:8080/"
        },
        "outputId": "f302f46a-762b-4b30-e72d-2b027a9c1e18",
        "id": "tvVGbH8Nk5NJ"
      },
      "execution_count": 12,
      "outputs": [
        {
          "output_type": "execute_result",
          "data": {
            "text/plain": [
              "5"
            ]
          },
          "metadata": {},
          "execution_count": 12
        }
      ]
    },
    {
      "cell_type": "code",
      "source": [
        "a=sc.parallelize([1,2,3,2,3,4,5])\n",
        "a.mean()"
      ],
      "metadata": {
        "colab": {
          "base_uri": "https://localhost:8080/"
        },
        "outputId": "2ad38f76-b363-4851-bac2-3103face5170",
        "id": "-u7Bxanuk5UR"
      },
      "execution_count": 13,
      "outputs": [
        {
          "output_type": "execute_result",
          "data": {
            "text/plain": [
              "2.857142857142857"
            ]
          },
          "metadata": {},
          "execution_count": 13
        }
      ]
    },
    {
      "cell_type": "code",
      "source": [
        "a=sc.parallelize([1,2,3,2,3,4,5])\n",
        "a.stdev()"
      ],
      "metadata": {
        "colab": {
          "base_uri": "https://localhost:8080/"
        },
        "outputId": "4521f87f-6c55-4342-f146-893578f111c4",
        "id": "1oNWo8rWk5Yt"
      },
      "execution_count": 14,
      "outputs": [
        {
          "output_type": "execute_result",
          "data": {
            "text/plain": [
              "1.2453996981544782"
            ]
          },
          "metadata": {},
          "execution_count": 14
        }
      ]
    },
    {
      "cell_type": "code",
      "source": [
        "a=sc.parallelize([1,2,3,2,3,4,5])\n",
        "a.countByValue()"
      ],
      "metadata": {
        "colab": {
          "base_uri": "https://localhost:8080/"
        },
        "outputId": "39e0d28c-8006-46c5-f04a-8b95fb4472c4",
        "id": "ca5ltsTUk5c_"
      },
      "execution_count": 15,
      "outputs": [
        {
          "output_type": "execute_result",
          "data": {
            "text/plain": [
              "defaultdict(int, {1: 1, 2: 2, 3: 2, 4: 1, 5: 1})"
            ]
          },
          "metadata": {},
          "execution_count": 15
        }
      ]
    },
    {
      "cell_type": "code",
      "source": [
        "from operator import add\n",
        "a=sc.parallelize([(1,2),(1,4),(2,9),(2,7)])\n",
        "a.reduceByKey(add).collect()"
      ],
      "metadata": {
        "colab": {
          "base_uri": "https://localhost:8080/"
        },
        "outputId": "053fc1cb-208b-4ba7-e7eb-95c99859cbae",
        "id": "jBKceHCQk5iR"
      },
      "execution_count": 18,
      "outputs": [
        {
          "output_type": "execute_result",
          "data": {
            "text/plain": [
              "[(1, 6), (2, 16)]"
            ]
          },
          "metadata": {},
          "execution_count": 18
        }
      ]
    },
    {
      "cell_type": "code",
      "source": [
        "a=sc.parallelize([(1,2),(1,4),(2,9),(2,7)])\n",
        "a.sortByKey().collect()"
      ],
      "metadata": {
        "id": "p_G1h-swJyKB",
        "outputId": "acf452c6-95f8-4978-baa6-967f4f94c911",
        "colab": {
          "base_uri": "https://localhost:8080/"
        }
      },
      "execution_count": 19,
      "outputs": [
        {
          "output_type": "execute_result",
          "data": {
            "text/plain": [
              "[(1, 2), (1, 4), (2, 9), (2, 7)]"
            ]
          },
          "metadata": {},
          "execution_count": 19
        }
      ]
    },
    {
      "cell_type": "code",
      "source": [
        "a=sc.parallelize([(1,2),(1,4),(2,9),(2,7)])\n",
        "a.groupByKey().collect()"
      ],
      "metadata": {
        "id": "NdjfDbNvJ3rB",
        "outputId": "929a9510-b40f-44de-87a8-f86fb626e1d2",
        "colab": {
          "base_uri": "https://localhost:8080/"
        }
      },
      "execution_count": 23,
      "outputs": [
        {
          "output_type": "execute_result",
          "data": {
            "text/plain": [
              "[(2, <pyspark.resultiterable.ResultIterable at 0x7f67e66cf090>),\n",
              " (1, <pyspark.resultiterable.ResultIterable at 0x7f67e66cf350>)]"
            ]
          },
          "metadata": {},
          "execution_count": 23
        }
      ]
    },
    {
      "cell_type": "code",
      "source": [
        "a=sc.parallelize([(1,2),(1,4),(2,9),(2,7)])\n",
        "a.mapValues(lambda y: y+1).collect()"
      ],
      "metadata": {
        "id": "RELgPdsdKRmX",
        "outputId": "8a859ac2-38a8-41bc-e739-0d4b5af176ad",
        "colab": {
          "base_uri": "https://localhost:8080/"
        }
      },
      "execution_count": 26,
      "outputs": [
        {
          "output_type": "execute_result",
          "data": {
            "text/plain": [
              "[(1, 3), (1, 5), (2, 10), (2, 8)]"
            ]
          },
          "metadata": {},
          "execution_count": 26
        }
      ]
    },
    {
      "cell_type": "code",
      "source": [
        "a=sc.parallelize([(1,2),(1,4),(2,9),(2,7)])\n",
        "a.flatMapValues(lambda x: (x,1)).collect()"
      ],
      "metadata": {
        "id": "67AKZf5wKjAo",
        "outputId": "cec46ec6-8ada-4116-b0f5-f450948b33cb",
        "colab": {
          "base_uri": "https://localhost:8080/"
        }
      },
      "execution_count": 27,
      "outputs": [
        {
          "output_type": "execute_result",
          "data": {
            "text/plain": [
              "[(1, 2), (1, 1), (1, 4), (1, 1), (2, 9), (2, 1), (2, 7), (2, 1)]"
            ]
          },
          "metadata": {},
          "execution_count": 27
        }
      ]
    },
    {
      "cell_type": "code",
      "source": [
        "a=sc.parallelize([(1,2),(1,4),(2,9),(2,7)])\n",
        "a.keys().collect()"
      ],
      "metadata": {
        "id": "cEuLP5cVKsXp",
        "outputId": "ea45c5b1-dfbf-446e-c2b3-4e7c34d10a5d",
        "colab": {
          "base_uri": "https://localhost:8080/"
        }
      },
      "execution_count": 28,
      "outputs": [
        {
          "output_type": "execute_result",
          "data": {
            "text/plain": [
              "[1, 1, 2, 2]"
            ]
          },
          "metadata": {},
          "execution_count": 28
        }
      ]
    },
    {
      "cell_type": "code",
      "source": [
        "a=sc.parallelize([(1,2),(1,4),(2,9),(2,7)])\n",
        "b=sc.parallelize([(2,9),(1,4)])\n",
        "a.join(b).collect()"
      ],
      "metadata": {
        "id": "DlZVO5e3KyZ2",
        "outputId": "43f4cffc-6f17-480d-c022-e6b02093ea06",
        "colab": {
          "base_uri": "https://localhost:8080/"
        }
      },
      "execution_count": 29,
      "outputs": [
        {
          "output_type": "execute_result",
          "data": {
            "text/plain": [
              "[(1, (2, 4)), (1, (4, 4)), (2, (9, 9)), (2, (7, 9))]"
            ]
          },
          "metadata": {},
          "execution_count": 29
        }
      ]
    },
    {
      "cell_type": "code",
      "source": [
        "a=sc.parallelize([(1,2),(1,4),(2,9),(2,7)])\n",
        "b=sc.parallelize([(2,9)])\n",
        "b.subtractByKey(a).collect()"
      ],
      "metadata": {
        "id": "gsUk8Mb7K5u-",
        "outputId": "b8bb7f05-3237-4b4c-ee06-6af273676c91",
        "colab": {
          "base_uri": "https://localhost:8080/"
        }
      },
      "execution_count": 32,
      "outputs": [
        {
          "output_type": "execute_result",
          "data": {
            "text/plain": [
              "[]"
            ]
          },
          "metadata": {},
          "execution_count": 32
        }
      ]
    }
  ]
}